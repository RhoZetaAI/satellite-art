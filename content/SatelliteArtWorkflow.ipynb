{
 "cells": [
  {
   "cell_type": "markdown",
   "id": "56f194d1-3167-43b0-ba3b-1fb99b312257",
   "metadata": {},
   "source": [
    "## PyCon UK '23 workshop: Turn Satellite Images into Digital Art with Python!\n",
    "---"
   ]
  },
  {
   "cell_type": "code",
   "execution_count": null,
   "id": "6d5527d6-2467-4e96-a523-5f65b34bedcf",
   "metadata": {},
   "outputs": [],
   "source": [
    "# Set-up\n",
    "%config Completer.use_jedi = False"
   ]
  },
  {
   "cell_type": "code",
   "execution_count": null,
   "id": "942c948b-9546-4999-a1f8-7974f0529520",
   "metadata": {},
   "outputs": [],
   "source": [
    "# Set-up\n",
    "%pip install -q scipy\n",
    "%pip install -q matplotlib"
   ]
  },
  {
   "cell_type": "code",
   "execution_count": null,
   "id": "da313f5c-69e6-4c89-b2c5-d77eaa130ee2",
   "metadata": {},
   "outputs": [],
   "source": [
    "# Set-up\n",
    "from time import time\n",
    "from PIL import Image\n",
    "import numpy as np\n",
    "import matplotlib.pyplot as plt\n",
    "from sklearn.cluster import KMeans\n",
    "from sklearn.utils import shuffle"
   ]
  },
  {
   "cell_type": "code",
   "execution_count": null,
   "id": "162e6271-0ca2-4b3c-ac76-7889c5886d35",
   "metadata": {},
   "outputs": [],
   "source": [
    "# Load satellite image jpg\n",
    "raw_jpg = Image.open(\"Earth.jpg\").convert(\"RGB\")"
   ]
  },
  {
   "cell_type": "code",
   "execution_count": null,
   "id": "6cdec1b9-5e53-48dd-8c1c-544d8a908572",
   "metadata": {},
   "outputs": [],
   "source": [
    "# Convert to numpy array\n",
    "array_uint8 = np.array(raw_jpg) "
   ]
  },
  {
   "cell_type": "code",
   "execution_count": null,
   "id": "00027d50-5a4d-40d3-889b-b4451ef2eea4",
   "metadata": {},
   "outputs": [],
   "source": [
    "# Make function that generates a colour swatch of a specific pixel of the image data\n",
    "def pixel_colour_swatch(row, column):\n",
    "    RGB_colour = tuple(array_uint8[row][column].tolist())\n",
    "    print(f\"The pixel at ({row}, {column}) has RGB of {RGB_colour}.\")\n",
    "    return Image.new(\"RGB\", (50,50), RGB_colour)"
   ]
  },
  {
   "cell_type": "code",
   "execution_count": null,
   "id": "8f1920e8-2b1f-42e7-a567-70b3c7065c07",
   "metadata": {},
   "outputs": [],
   "source": [
    "# Call the swatch function\n",
    "pixel_colour_swatch(10, 10)"
   ]
  },
  {
   "cell_type": "code",
   "execution_count": null,
   "id": "004b0043-3e64-45fa-9c74-db756233a651",
   "metadata": {},
   "outputs": [],
   "source": [
    "# Assign the dimensions of the array_uint8 object to variables, then check these\n",
    "width, height, depth = original_shape = array_uint8.shape\n",
    "original_shape"
   ]
  },
  {
   "cell_type": "code",
   "execution_count": null,
   "id": "d7a2d245-389e-4c81-b83e-e4b5e933c614",
   "metadata": {},
   "outputs": [],
   "source": [
    "# Test the condition that the value of the depth variable is 3 (as would be the case of the image colour mode is RGB)\n",
    "# Reshape the array_uint8 object into width * height no. of rows, and depth no. of columns (which is expected to always be 3)\n",
    "assert depth == 3\n",
    "reshaped_array_uint8 = np.reshape(array_uint8, (width * height, depth))"
   ]
  },
  {
   "cell_type": "code",
   "execution_count": null,
   "id": "d12c30a8-4e95-466a-9801-132306a32ef6",
   "metadata": {
    "tags": []
   },
   "outputs": [],
   "source": [
    "# Check the dimensions of array_unint8\n",
    "reshaped_array_uint8.shape\n",
    "#reshaped_array_uint8[:5]"
   ]
  },
  {
   "cell_type": "code",
   "execution_count": null,
   "id": "24ae05cf-dc9b-4a87-9bee-f8505c65f017",
   "metadata": {},
   "outputs": [],
   "source": [
    "# OPTIONAL: Calculate the number of colours in the original satellite image data\n",
    "original_n_colours = np.unique(reshaped_array_uint8, axis=0).shape[0]\n",
    "original_n_colours"
   ]
  },
  {
   "cell_type": "code",
   "execution_count": null,
   "id": "0668c485-8623-4af4-996e-327e153395a2",
   "metadata": {},
   "outputs": [],
   "source": [
    "# Convert to the default 8 bits integer coding to floats and divide by 255 so the floats are in the range [0-1] (normalised)\n",
    "reshaped_array_float01range = np.array(reshaped_array_uint8, dtype=np.float64) / 255"
   ]
  },
  {
   "cell_type": "code",
   "execution_count": null,
   "id": "7159ef2e-70e7-4f9f-ac08-0995f77d36e4",
   "metadata": {},
   "outputs": [],
   "source": [
    "# Make a copy of the prepared image data, image_array, to work on\n",
    "image_array = reshaped_array_float01range.copy()"
   ]
  },
  {
   "cell_type": "code",
   "execution_count": null,
   "id": "4720990a-4e01-47c6-a8fb-89b9dc02a545",
   "metadata": {},
   "outputs": [],
   "source": [
    "# Choose the number of clusters, i.e. colours, that the image data will be grouped/reduced into\n",
    "n_colours = 6"
   ]
  },
  {
   "cell_type": "code",
   "execution_count": null,
   "id": "357b0e96-02d5-49a3-8ffc-74ddadb871bf",
   "metadata": {},
   "outputs": [],
   "source": [
    "# Train K-Means clustering model on small sub-sample of the image data\n",
    "print(\"Fitting model on a small sub-sample of the data\")\n",
    "t0 = time()\n",
    "image_array_sample = shuffle(image_array, random_state=0, n_samples=1_000)\n",
    "kmeans = KMeans(n_clusters=n_colours, n_init=\"auto\", random_state=0).fit(\n",
    "    image_array_sample\n",
    ")\n",
    "print(f\"done in {time() - t0:0.3f}s.\")"
   ]
  },
  {
   "cell_type": "code",
   "execution_count": null,
   "id": "c18262aa-2d72-4cb9-80a5-5e5d8c4668cc",
   "metadata": {},
   "outputs": [],
   "source": [
    "# Get labels for all points - use the kmeans trained model to predict which of the n clusters each pixel belongs to, i.e. assign each pixel a label, from 1 to n_colors\n",
    "print(\"Predicting colour indices on the full image (k-means)\")\n",
    "t0 = time()\n",
    "labels = kmeans.predict(image_array)\n",
    "print(f\"done in {time() - t0:0.3f}s.\")"
   ]
  },
  {
   "cell_type": "code",
   "execution_count": null,
   "id": "719cd7cb-ee3a-498e-92fc-df83eaad0639",
   "metadata": {},
   "outputs": [],
   "source": [
    "# Import a module that enables useful color functionality \n",
    "import matplotlib.colors as mcolours"
   ]
  },
  {
   "cell_type": "code",
   "execution_count": null,
   "id": "93853563-32a8-4338-94fa-f9d662d6ceed",
   "metadata": {},
   "outputs": [],
   "source": [
    "# Check out available 'named colours' and what their RGB value is: https://matplotlib.org/stable/gallery/color/named_colors.html#css-colors\n",
    "mcolours.to_rgb(\"tomato\")"
   ]
  },
  {
   "cell_type": "code",
   "execution_count": null,
   "id": "8bae6cb7-c876-4534-95c1-e28f492a4cba",
   "metadata": {},
   "outputs": [],
   "source": [
    "# Write function for creating custom colour palettes, referred to here as a 'codebook'\n",
    "# FYI can also use a list comprehension for the main body of the function, e.g. `codebook = np.array([mcolors.to_rgb(i) for i in args])`\n",
    "\n",
    "def make_codebook(*args):\n",
    "    codebook = []\n",
    "    for i in args:\n",
    "        codebook.append(mcolours.to_rgb(i))\n",
    "    codebook = np.array(codebook)\n",
    "    return codebook"
   ]
  },
  {
   "cell_type": "code",
   "execution_count": null,
   "id": "d2817e02-222b-42a1-a83b-66c002c59ef6",
   "metadata": {},
   "outputs": [],
   "source": [
    "# Use the `make_codebook` function to create a custom colour palette with which to recreate an updated satellite image as digital artwork\n",
    "# NOTE: Ensure to pass the same number of 'named colors' arguments as the number of 'n_colors' specified earlier (6 in the prepared example)\n",
    "\n",
    "codebook_6colours = make_codebook(\"mediumspringgreen\", \"cornflowerblue\", \"thistle\", \"coral\", \"khaki\",  \"darkturquoise\")"
   ]
  },
  {
   "cell_type": "code",
   "execution_count": null,
   "id": "c4e35b57-04c9-42ab-8485-f4b2825dc4bb",
   "metadata": {},
   "outputs": [],
   "source": [
    "# Write function to recreate the (compressed) image from provided codebook, pixel labels, image width, and image height\n",
    "\n",
    "def recreate_image(codebook, labels, width, height):\n",
    "    return codebook[labels].reshape(width, height, -1)"
   ]
  },
  {
   "cell_type": "code",
   "execution_count": null,
   "id": "370d519a-d6c3-41ad-a989-fd77ffa5a5d5",
   "metadata": {},
   "outputs": [],
   "source": [
    "# OPTIONAL: use this code (uncommented!) to see what the `codebook[labels]` code in the 'recreate_inage' function is doing\n",
    "# test_codebook = make_codebook(\"orange\", \"navy\")\n",
    "# test_labels = np.array([0,1,1,0,1,0,0])\n",
    "# test_codebook[test_labels]"
   ]
  },
  {
   "cell_type": "code",
   "execution_count": null,
   "id": "2772d626-b866-46ee-afd0-182d6610f28b",
   "metadata": {},
   "outputs": [],
   "source": [
    "# Create and plot `SatArt` variable, a recreated reduced colour image of n_colours chosen colours as defined in the custom codebook colour palette\n",
    "SatArt = recreate_image(codebook_6colours, labels, width, height)\n",
    "plt.figure(figsize=(10,10))\n",
    "plt.clf()\n",
    "plt.axis(\"off\")\n",
    "plt.title(f\"Satellite Art - a quantized image with {n_colours} colours\")\n",
    "plt.imshow(SatArt);\n",
    "#plt.savefig(\"SatArt_test.png\", dpi=600)"
   ]
  },
  {
   "cell_type": "markdown",
   "id": "3b7f0e18-5962-44fe-a14b-756f50233959",
   "metadata": {},
   "source": [
    "---\n",
    "## ALTERNATIVE - up to 148 randomly-chosen colours"
   ]
  },
  {
   "cell_type": "code",
   "execution_count": null,
   "id": "424c4ff5-1d3d-46c7-941a-32670c6648aa",
   "metadata": {},
   "outputs": [],
   "source": [
    "# Choose the number of clusters, i.e. colours, that the image data will be grouped/reduced into\n",
    "n_random_colours = 148\n",
    "\n",
    "# Train K-Means clustering model on small sub-sample of the image data\n",
    "print(\"Fitting model on a small sub-sample of the data\")\n",
    "t0_alt = time()\n",
    "image_array_sample_alt = shuffle(image_array, random_state=0, n_samples=1_000)\n",
    "kmeans_alt = KMeans(n_clusters=n_random_colours, n_init=\"auto\", random_state=0).fit(\n",
    "    image_array_sample_alt\n",
    ")\n",
    "print(f\"done in {time() - t0_alt:0.3f}s.\")\n",
    "\n",
    "# Get labels for all points - use the kmeans trained model to predict which of the n clusters each pixel belongs to, i.e. assign each pixel a label, from 1 to n_colors\n",
    "print(\"Predicting colour indices on the full image (k-means)\")\n",
    "t0_alt = time()\n",
    "labels_alt = kmeans_alt.predict(image_array)\n",
    "print(f\"done in {time() - t0_alt:0.3f}s.\")"
   ]
  },
  {
   "cell_type": "code",
   "execution_count": null,
   "id": "9b5b59d1-f497-41c6-973f-b5776df54f7d",
   "metadata": {},
   "outputs": [],
   "source": [
    "# Write function to recreate the (compressed) image from provided codebook, pixel labels, image width, and image height\n",
    "\n",
    "def recreate_image_alt(codebook, labels, width, height):\n",
    "    return codebook[labels_alt].reshape(width, height, -1)"
   ]
  },
  {
   "cell_type": "code",
   "execution_count": null,
   "id": "2b27cd88-286a-4340-8c7e-d918ae9a4b6a",
   "metadata": {},
   "outputs": [],
   "source": [
    "def random_array_rgb(n_random_colours):\n",
    "    random_array = np.random.choice([i for i in mcolours.cnames.keys()], n_random_colours, replace=False)\n",
    "    random_array_rgb = np.array([mcolours.to_rgb(i) for i in random_array])\n",
    "    return (random_array_rgb, random_array)"
   ]
  },
  {
   "cell_type": "code",
   "execution_count": null,
   "id": "aad92f8e-d692-49a3-bd23-b6e8903d055d",
   "metadata": {},
   "outputs": [],
   "source": [
    "# Create and plot `SatArt_random` variable, a recreated reduced colour image of n_random_colours chosen colours as defined in the custom codebook colour palette\n",
    "\n",
    "SatArt_random = recreate_image_alt(random_array_rgb(n_random_colours)[0], labels_alt, width, height)\n",
    "plt.figure(figsize=(10,10))\n",
    "plt.clf()\n",
    "plt.axis(\"off\")\n",
    "plt.title(f\"Satellite Art with {n_random_colours} colours: {random_array_rgb(n_random_colours)[1]}\", fontdict={\"fontsize\":8})\n",
    "plt.imshow(SatArt_random);\n",
    "#plt.savefig(\"SatArt_test.png\", dpi=600)"
   ]
  },
  {
   "cell_type": "code",
   "execution_count": null,
   "id": "225247bc-c34c-4843-a15d-0a15020fe10f",
   "metadata": {},
   "outputs": [],
   "source": [
    "# Convert 'SatArt_random' into RGB image object, scaling the 0-1 values and casting/conversion back to uint8/8 bit integer format\n",
    "SatArt_random_uint8 = Image.fromarray((SatArt_random * 255).astype(np.uint8))"
   ]
  },
  {
   "cell_type": "code",
   "execution_count": null,
   "id": "2ba0509e-8c51-499c-a7a5-599a2bd4480d",
   "metadata": {},
   "outputs": [],
   "source": [
    "# Save\n",
    "#SatArt_random_uint8.save(\"SatArt_random.png\")"
   ]
  },
  {
   "cell_type": "markdown",
   "id": "c2fffec3-919e-4e06-ba43-a6331d8ecb79",
   "metadata": {},
   "source": [
    "---\n",
    "### Now explore applying ready-made image filters to your Machine-Learning-enabled creation"
   ]
  },
  {
   "cell_type": "code",
   "execution_count": null,
   "id": "2f67d939-b055-41ef-bb87-5d1297bd8d06",
   "metadata": {},
   "outputs": [],
   "source": [
    "# Set-up\n",
    "from PIL.ImageFilter import (FIND_EDGES, CONTOUR, EMBOSS, MedianFilter, MinFilter, MaxFilter)\n",
    "from PIL.ImageOps import solarize"
   ]
  },
  {
   "cell_type": "code",
   "execution_count": null,
   "id": "2d2e7961-b508-4e3e-a938-94b3b78dad5a",
   "metadata": {},
   "outputs": [],
   "source": [
    "# Create copy of the non-random ML SatArt object (or can copy 'SatArt_random') converted into RGB image object, scaling the 0-1 values and casting/conversion back to uint8/8 bit integer format\n",
    "SatArt_ML = Image.fromarray((SatArt * 255).astype(np.uint8)).copy()"
   ]
  },
  {
   "cell_type": "code",
   "execution_count": null,
   "id": "f5473ec3-794d-4fdc-87cd-484fdb461d7d",
   "metadata": {
    "tags": []
   },
   "outputs": [],
   "source": [
    "# Check out what your 'SatArt' artwork looks like with an additional ready-made filter from the Python Imaging Library (PIL)\n",
    "\n",
    "PIL_filters = [\"FIND_EDGES\", \"FIND_EDGES (greyscale)\", \"CONTOUR\", \"CONTOUR (greyscale)\", \"EMBOSS\", \"MedianFilter\", \"MinFilter\", \"MaxFilter\",  \"solarize\"]\n",
    "fig, ax = plt.subplots(9,1, figsize=(40,80))\n",
    "\n",
    "ax[0].imshow(SatArt_ML.filter(FIND_EDGES()))    \n",
    "ax[1].imshow(SatArt_ML.convert(\"L\").filter(FIND_EDGES()))    # Also try the FIND_EDGES filter on a greyscale version of your artwork\n",
    "ax[2].imshow(SatArt_ML.filter(CONTOUR()))     \n",
    "ax[3].imshow( SatArt_ML.convert(\"L\").filter(CONTOUR()))    # Also try the CONTOUR filter on a greyscale version of your artwork\n",
    "\n",
    "ax[4].imshow(SatArt_ML.filter(EMBOSS()))\n",
    "ax[5].imshow(SatArt_ML.filter(MedianFilter(size=5)))\n",
    "ax[6].imshow(SatArt_ML.filter(MinFilter(size=5)))\n",
    "ax[7].imshow(SatArt_ML.filter(MaxFilter(size=5)))\n",
    "ax[8].imshow(solarize(SatArt_ML, threshold=0))    # Try different values for the threshold argument between 0 and 128\n",
    "\n",
    "for count, value in enumerate(PIL_filters):\n",
    "    ax[count].axis(\"off\")\n",
    "    ax[count].set_title(f\"{count+1}. Quantized image with {value} PIL filter\")\n",
    "plt.show()"
   ]
  },
  {
   "cell_type": "code",
   "execution_count": null,
   "id": "f627c771-1a04-4a72-ad69-97ff585ab54a",
   "metadata": {},
   "outputs": [],
   "source": [
    "# NOTE: image objects can be saved by chaining the `.save()` function, inputting a string name - example below\n",
    "# SatArt_ML.convert(\"L\").filter(FIND_EDGES()).save(\"SatArt_PILfilters.png\")"
   ]
  },
  {
   "cell_type": "code",
   "execution_count": null,
   "id": "615b0862-9833-4ec1-a7bb-8423b4c0c819",
   "metadata": {},
   "outputs": [],
   "source": [
    "# Can also generate a 'Before vs After' side-by-side comparison of the original chosen satellite image next to your final digital creation\n",
    "\n",
    "fig, ax = plt.subplots(1,2, figsize=(20,20))\n",
    "ax[0].imshow(raw_jpg)\n",
    "ax[1].imshow((solarize(SatArt_ML, threshold=0)))\n",
    "ax[0].axis(\"off\")\n",
    "ax[1].axis(\"off\")\n",
    "\n",
    "ax[0].set_title(f\"Original Sastellite image with {original_n_colours} colours\")\n",
    "ax[1].set_title(f\"Digital Satellite Art with {n_colours} colours\")\n",
    "#plt.savefig(\"SatArtComparison.png\", dpi=600)\n",
    "plt.show()"
   ]
  },
  {
   "cell_type": "markdown",
   "id": "04b7198c-a4ee-40fa-95fd-38ff979eb17f",
   "metadata": {},
   "source": [
    "---\n",
    "Copyright © 2023 Rho Zeta AI Ltd. All rights reserved."
   ]
  }
 ],
 "metadata": {
  "kernelspec": {
   "display_name": "Python 3 (ipykernel)",
   "language": "python",
   "name": "python3"
  },
  "language_info": {
   "codemirror_mode": {
    "name": "ipython",
    "version": 3
   },
   "file_extension": ".py",
   "mimetype": "text/x-python",
   "name": "python",
   "nbconvert_exporter": "python",
   "pygments_lexer": "ipython3",
   "version": "3.9.7"
  }
 },
 "nbformat": 4,
 "nbformat_minor": 5
}
