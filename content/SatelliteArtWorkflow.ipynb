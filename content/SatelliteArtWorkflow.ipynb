{
 "cells": [
  {
   "cell_type": "markdown",
   "id": "56f194d1-3167-43b0-ba3b-1fb99b312257",
   "metadata": {},
   "source": [
    "## PyCon UK '23 workshop: Turn Satellite Images into Digital Art with Python!\n",
    "---"
   ]
  },
  {
   "cell_type": "code",
   "execution_count": null,
   "id": "6d5527d6-2467-4e96-a523-5f65b34bedcf",
   "metadata": {},
   "outputs": [],
   "source": [
    "%config Completer.use_jedi = False"
   ]
  },
  {
   "cell_type": "code",
   "execution_count": null,
   "id": "942c948b-9546-4999-a1f8-7974f0529520",
   "metadata": {},
   "outputs": [],
   "source": [
    "%pip install -q scipy"
   ]
  },
  {
   "cell_type": "code",
   "execution_count": null,
   "id": "0f66d1f9-51aa-4e31-a43e-91118531fffb",
   "metadata": {},
   "outputs": [],
   "source": [
    "%pip install -q matplotlib"
   ]
  },
  {
   "cell_type": "code",
   "execution_count": null,
   "id": "da313f5c-69e6-4c89-b2c5-d77eaa130ee2",
   "metadata": {},
   "outputs": [],
   "source": [
    "from time import time"
   ]
  },
  {
   "cell_type": "code",
   "execution_count": null,
   "id": "db13fae2-f060-4ff9-a452-c6769739a3bb",
   "metadata": {},
   "outputs": [],
   "source": [
    "from PIL import Image"
   ]
  },
  {
   "cell_type": "code",
   "execution_count": null,
   "id": "94a73bce-27e8-4498-89b0-3f7fa690e5c0",
   "metadata": {},
   "outputs": [],
   "source": [
    "import numpy as np"
   ]
  },
  {
   "cell_type": "code",
   "execution_count": null,
   "id": "e1c544c4-6731-4430-813b-a593b2f2e9e7",
   "metadata": {},
   "outputs": [],
   "source": [
    "import matplotlib.pyplot as plt"
   ]
  },
  {
   "cell_type": "code",
   "execution_count": null,
   "id": "64d981cc-9872-43e8-b1f0-0fccbb2caa00",
   "metadata": {},
   "outputs": [],
   "source": [
    "from sklearn.cluster import KMeans\n",
    "from sklearn.utils import shuffle"
   ]
  },
  {
   "cell_type": "code",
   "execution_count": null,
   "id": "162e6271-0ca2-4b3c-ac76-7889c5886d35",
   "metadata": {},
   "outputs": [],
   "source": [
    "# Load jpg \n",
    "raw_jpg = Image.open(\"img.jpg\").convert(\"RGB\")"
   ]
  },
  {
   "cell_type": "code",
   "execution_count": null,
   "id": "6cdec1b9-5e53-48dd-8c1c-544d8a908572",
   "metadata": {},
   "outputs": [],
   "source": [
    "# Convert to numpy array\n",
    "array_uint8 = np.array(raw_jpg) "
   ]
  },
  {
   "cell_type": "code",
   "execution_count": null,
   "id": "de3a0e12-1c3d-4c8e-8596-802b4786fcbd",
   "metadata": {
    "tags": []
   },
   "outputs": [],
   "source": [
    "array_uint8"
   ]
  },
  {
   "cell_type": "code",
   "execution_count": null,
   "id": "25b33fc5-c100-42b6-b5bf-121a2639549d",
   "metadata": {
    "tags": []
   },
   "outputs": [],
   "source": [
    "array_uint8.shape"
   ]
  },
  {
   "cell_type": "code",
   "execution_count": null,
   "id": "00027d50-5a4d-40d3-889b-b4451ef2eea4",
   "metadata": {},
   "outputs": [],
   "source": [
    "# Make function that generates a colour swatch of a specific image pixel\n",
    "def pixel_colour_swatch(row, column):\n",
    "    RGB_colour = tuple(array_uint8[row][column].tolist())\n",
    "    print(f\"The pixel at ({row}, {column}) has RGB of {RGB_colour}.\")\n",
    "    return Image.new(\"RGB\", (50,50), RGB_colour)"
   ]
  },
  {
   "cell_type": "code",
   "execution_count": null,
   "id": "8f1920e8-2b1f-42e7-a567-70b3c7065c07",
   "metadata": {},
   "outputs": [],
   "source": [
    "pixel_colour_swatch(10, 10)"
   ]
  },
  {
   "cell_type": "code",
   "execution_count": null,
   "id": "004b0043-3e64-45fa-9c74-db756233a651",
   "metadata": {},
   "outputs": [],
   "source": [
    "# Assign the dimensions of the array_uint8 object to variables\n",
    "width, height, depth = original_shape = array_uint8.shape\n",
    "original_shape"
   ]
  },
  {
   "cell_type": "code",
   "execution_count": null,
   "id": "d7a2d245-389e-4c81-b83e-e4b5e933c614",
   "metadata": {},
   "outputs": [],
   "source": [
    "# Test the condition that the value of the depth variable is 3 (as would be the case of the image colour mode is RGB)\n",
    "# Reshape the array_uint8 object into basically width * height no. of rows and depth no. of columns (3)\n",
    "assert depth == 3\n",
    "reshaped_array_uint8 = np.reshape(array_uint8, (width * height, depth))"
   ]
  },
  {
   "cell_type": "code",
   "execution_count": null,
   "id": "d12c30a8-4e95-466a-9801-132306a32ef6",
   "metadata": {
    "tags": []
   },
   "outputs": [],
   "source": [
    "# Check the dimensions\n",
    "reshaped_array_uint8.shape"
   ]
  },
  {
   "cell_type": "code",
   "execution_count": null,
   "id": "b746b4d7-08d3-4a06-9b03-6b66134d8558",
   "metadata": {},
   "outputs": [],
   "source": [
    "reshaped_array_uint8[:5]"
   ]
  },
  {
   "cell_type": "code",
   "execution_count": null,
   "id": "24ae05cf-dc9b-4a87-9bee-f8505c65f017",
   "metadata": {},
   "outputs": [],
   "source": [
    "# Calculate the number of colours in the original jpg\n",
    "original_n_colors = np.unique(reshaped_array_uint8, axis=0).shape[0]\n",
    "original_n_colors"
   ]
  },
  {
   "cell_type": "code",
   "execution_count": null,
   "id": "af729d90-ac06-4a15-8899-ac91155c9704",
   "metadata": {},
   "outputs": [],
   "source": [
    "reshaped_array_uint8"
   ]
  },
  {
   "cell_type": "code",
   "execution_count": null,
   "id": "0668c485-8623-4af4-996e-327e153395a2",
   "metadata": {},
   "outputs": [],
   "source": [
    "# Convert to the default 8 bits integer coding to floats and divide by 255 so the floats are in the range [0-1] (normalised)\n",
    "reshaped_array_float01range = np.array(reshaped_array_uint8, dtype=np.float64) / 255"
   ]
  },
  {
   "cell_type": "code",
   "execution_count": null,
   "id": "c617e4f9-47b2-413f-8945-ea187c6d0859",
   "metadata": {},
   "outputs": [],
   "source": [
    "reshaped_array_float01range.shape"
   ]
  },
  {
   "cell_type": "code",
   "execution_count": null,
   "id": "7159ef2e-70e7-4f9f-ac08-0995f77d36e4",
   "metadata": {},
   "outputs": [],
   "source": [
    "image_array = reshaped_array_float01range.copy()"
   ]
  },
  {
   "cell_type": "code",
   "execution_count": null,
   "id": "4720990a-4e01-47c6-a8fb-89b9dc02a545",
   "metadata": {},
   "outputs": [],
   "source": [
    "# Choose the number of clusters, i.e. colours, to reduce the original jpg down to\n",
    "n_colors = 6"
   ]
  },
  {
   "cell_type": "code",
   "execution_count": null,
   "id": "357b0e96-02d5-49a3-8ffc-74ddadb871bf",
   "metadata": {},
   "outputs": [],
   "source": [
    "# Train K-Means clustering model on small sub-sample of the data\n",
    "print(\"Fitting model on a small sub-sample of the data\")\n",
    "t0 = time()\n",
    "image_array_sample = shuffle(image_array, random_state=0, n_samples=1_000)\n",
    "kmeans = KMeans(n_clusters=n_colors, n_init=\"auto\", random_state=0).fit(\n",
    "    image_array_sample\n",
    ")\n",
    "print(f\"done in {time() - t0:0.3f}s.\")"
   ]
  },
  {
   "cell_type": "code",
   "execution_count": null,
   "id": "c18262aa-2d72-4cb9-80a5-5e5d8c4668cc",
   "metadata": {},
   "outputs": [],
   "source": [
    "# Get labels for all points | Use the kmeans trained model to predict which of the n clusters each pixel belongs to, i.e. assign each pixel a label, from 1 to n_colors\n",
    "print(\"Predicting color indices on the full image (k-means)\")\n",
    "t0 = time()\n",
    "labels = kmeans.predict(image_array)\n",
    "print(f\"done in {time() - t0:0.3f}s.\")"
   ]
  },
  {
   "cell_type": "code",
   "execution_count": null,
   "id": "719cd7cb-ee3a-498e-92fc-df83eaad0639",
   "metadata": {},
   "outputs": [],
   "source": [
    "import matplotlib.colors as mcolors"
   ]
  },
  {
   "cell_type": "code",
   "execution_count": null,
   "id": "93853563-32a8-4338-94fa-f9d662d6ceed",
   "metadata": {},
   "outputs": [],
   "source": [
    "# Check out available 'named colors' and what their RGB value is: https://matplotlib.org/stable/gallery/color/named_colors.html#css-colors\n",
    "mcolors.to_rgb(\"cornflowerblue\")"
   ]
  },
  {
   "cell_type": "code",
   "execution_count": null,
   "id": "8bae6cb7-c876-4534-95c1-e28f492a4cba",
   "metadata": {},
   "outputs": [],
   "source": [
    "# Write function for creating custom colour palettes, referred to here as a 'codebook'\n",
    "# FYI can also use a list comprehension for the main body of the function: `codebook = np.array([mcolors.to_rgb(i) for i in args])`\n",
    "\n",
    "def make_codebook(*args):\n",
    "    codebook = []\n",
    "    for i in args:\n",
    "        codebook.append(mcolors.to_rgb(i))\n",
    "    codebook = np.array(codebook)\n",
    "    return codebook"
   ]
  },
  {
   "cell_type": "code",
   "execution_count": null,
   "id": "d2817e02-222b-42a1-a83b-66c002c59ef6",
   "metadata": {},
   "outputs": [],
   "source": [
    "# Use the `make_codebook` function to create a custom colour palette with which to recreate an updated jpg with, i.e a new piece of Digital Art\n",
    "# MAKE SURE you pass the same number of 'named colors' as 'n_colors', e.g. 6\n",
    "\n",
    "codebook_6pastels = make_codebook(\"mediumspringgreen\", \"cornflowerblue\", \"thistle\", \"coral\", \"khaki\",  \"darkturquoise\")"
   ]
  },
  {
   "cell_type": "code",
   "execution_count": null,
   "id": "75a61cdf-592a-4279-a656-5e1fa8088292",
   "metadata": {},
   "outputs": [],
   "source": [
    "labels"
   ]
  },
  {
   "cell_type": "code",
   "execution_count": null,
   "id": "a6f788c6-caa2-4262-a6a6-240b57fd598b",
   "metadata": {},
   "outputs": [],
   "source": [
    "codebook_6pastels"
   ]
  },
  {
   "cell_type": "code",
   "execution_count": null,
   "id": "c4e35b57-04c9-42ab-8485-f4b2825dc4bb",
   "metadata": {},
   "outputs": [],
   "source": [
    "# Write function to recreate the (compressed) image from an inputted codebook, pixel labels, image width, and image height\n",
    "\n",
    "def recreate_image(codebook, labels, width, height):\n",
    "    return codebook[labels].reshape(width, height, -1)"
   ]
  },
  {
   "cell_type": "code",
   "execution_count": null,
   "id": "370d519a-d6c3-41ad-a989-fd77ffa5a5d5",
   "metadata": {},
   "outputs": [],
   "source": [
    "# OPTIONAL: use this code (uncommented!) to see what the `codebook[labels]` code in the 'recreate_inage' function is doing\n",
    "# test_codebook = make_codebook(\"orange\", \"navy\")\n",
    "# test_labels = np.array([0,1,1,0,1,0,0])\n",
    "# test_codebook[test_labels]"
   ]
  },
  {
   "cell_type": "code",
   "execution_count": null,
   "id": "2772d626-b866-46ee-afd0-182d6610f28b",
   "metadata": {},
   "outputs": [],
   "source": [
    "# Create and plot `SatArt` variable - the recreated image reduced to n_colors and with custom codebook colour palette\n",
    "SatArt = recreate_image(codebook_6pastels, labels, width, height)\n",
    "plt.figure(figsize=(10,10))\n",
    "plt.clf()\n",
    "plt.axis(\"off\")\n",
    "plt.title(f\"Satellite Art - a quantized image with {n_colors} colours\")\n",
    "plt.imshow(SatArt);\n",
    "#plt.savefig(\"SatArt_test.png\", dpi=600)"
   ]
  },
  {
   "cell_type": "code",
   "execution_count": null,
   "id": "2f67d939-b055-41ef-bb87-5d1297bd8d06",
   "metadata": {},
   "outputs": [],
   "source": [
    "from PIL.ImageFilter import (FIND_EDGES, CONTOUR, EMBOSS, MedianFilter, MinFilter, MaxFilter)"
   ]
  },
  {
   "cell_type": "code",
   "execution_count": null,
   "id": "d01fd0ca-457c-48b0-b1b5-28e018c1414b",
   "metadata": {},
   "outputs": [],
   "source": [
    "from PIL.ImageOps import solarize"
   ]
  },
  {
   "cell_type": "code",
   "execution_count": null,
   "id": "e7c982fe-aef5-4547-a9b6-6ef113feaf20",
   "metadata": {},
   "outputs": [],
   "source": [
    "# Convert `SatArt` into RGB image, scaling the 0-1 values and casting/conversion back to uint8/8 bit integer format\n",
    "SatArt_uint8 = Image.fromarray((SatArt * 255).astype(np.uint8))"
   ]
  },
  {
   "cell_type": "code",
   "execution_count": null,
   "id": "f5473ec3-794d-4fdc-87cd-484fdb461d7d",
   "metadata": {
    "tags": []
   },
   "outputs": [],
   "source": [
    "# Check out some ready-made filters from the Python Imaging Library (PIL)\n",
    "\n",
    "PIL_filters = [\"FIND_EDGES\", \"FIND_EDGES (greyscale)\", \"CONTOUR\", \"CONTOUR (greyscale)\", \"EMBOSS\", \"MedianFilter\", \"MinFilter\", \"MaxFilter\",  \"solarize\"]\n",
    "fig, ax = plt.subplots(9,1, figsize=(40,80))\n",
    "\n",
    "ax[0].imshow(SatArt_uint8.filter(FIND_EDGES()))    \n",
    "ax[1].imshow(SatArt_uint8.convert(\"L\").filter(FIND_EDGES()))    # Can also try converting the image to greyscale before filtering\n",
    "ax[2].imshow(SatArt_uint8.filter(CONTOUR()))     \n",
    "ax[3].imshow( SatArt_uint8.convert(\"L\").filter(CONTOUR()))    # Can also try converting the image to greyscale first before filtering\n",
    "\n",
    "ax[4].imshow(SatArt_uint8.filter(EMBOSS()))\n",
    "ax[5].imshow(SatArt_uint8.filter(MedianFilter(size=5)))\n",
    "ax[6].imshow(SatArt_uint8.filter(MinFilter(size=5)))\n",
    "ax[7].imshow(SatArt_uint8.filter(MaxFilter(size=5)))\n",
    "ax[8].imshow(solarize(SatArt_uint8, threshold=0)) # Threshold can range from 0-128\n",
    "\n",
    "for count, value in enumerate(PIL_filters):\n",
    "    ax[count].axis(\"off\")\n",
    "    ax[count].set_title(f\"{count+1}. Quantized image with {value} PIL filter\")\n",
    "plt.show()"
   ]
  },
  {
   "cell_type": "code",
   "execution_count": null,
   "id": "f627c771-1a04-4a72-ad69-97ff585ab54a",
   "metadata": {},
   "outputs": [],
   "source": [
    "# Chain the `.save()` function to the expression with a string input such as \"Egypt.png\" \n",
    "# SatArt_uint8.convert(\"L\").filter(FIND_EDGES()).save(\"...png\")"
   ]
  },
  {
   "cell_type": "code",
   "execution_count": null,
   "id": "615b0862-9833-4ec1-a7bb-8423b4c0c819",
   "metadata": {},
   "outputs": [],
   "source": [
    "# Before vs After side-by-side comparison\n",
    "\n",
    "fig, ax = plt.subplots(1,2, figsize=(40,30))\n",
    "ax[0].imshow(raw_jpg)\n",
    "ax[1].imshow(SatArt_uint8.convert(\"L\").filter(FIND_EDGES()))\n",
    "ax[0].axis(\"off\")\n",
    "ax[1].axis(\"off\")\n",
    "\n",
    "ax[0].set_title(f\"Original Satellite screenshot with {original_n_colors} colours\")\n",
    "ax[1].set_title(f\"Digital Satellite Art\")\n",
    "plt.show()"
   ]
  },
  {
   "cell_type": "markdown",
   "id": "04b7198c-a4ee-40fa-95fd-38ff979eb17f",
   "metadata": {},
   "source": [
    "---\n",
    "Copyright © 2023 Rho Zeta AI Ltd. All rights reserved."
   ]
  }
 ],
 "metadata": {
  "kernelspec": {
   "display_name": "Python 3 (ipykernel)",
   "language": "python",
   "name": "python3"
  },
  "language_info": {
   "codemirror_mode": {
    "name": "ipython",
    "version": 3
   },
   "file_extension": ".py",
   "mimetype": "text/x-python",
   "name": "python",
   "nbconvert_exporter": "python",
   "pygments_lexer": "ipython3",
   "version": "3.9.7"
  }
 },
 "nbformat": 4,
 "nbformat_minor": 5
}
