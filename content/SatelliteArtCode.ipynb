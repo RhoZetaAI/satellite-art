{
  "metadata": {
    "kernelspec": {
      "name": "python",
      "display_name": "Python (Pyodide)",
      "language": "python"
    },
    "language_info": {
      "codemirror_mode": {
        "name": "python",
        "version": 3
      },
      "file_extension": ".py",
      "mimetype": "text/x-python",
      "name": "python",
      "nbconvert_exporter": "python",
      "pygments_lexer": "ipython3",
      "version": "3.8"
    }
  },
  "nbformat_minor": 5,
  "nbformat": 4,
  "cells": [
    {
      "cell_type": "markdown",
      "source": "# PyCon UK '23 workshop: Turn Satellite Images into Digital Art with Python!\n---",
      "metadata": {},
      "id": "56f194d1-3167-43b0-ba3b-1fb99b312257"
    },
    {
      "cell_type": "markdown",
      "source": "### 1. Set-up",
      "metadata": {},
      "id": "d708df1d-5ca6-4818-80df-ec7b1d406563"
    },
    {
      "cell_type": "code",
      "source": "%pip install -q scipy\n%pip install -q matplotlib",
      "metadata": {
        "trusted": true
      },
      "execution_count": null,
      "outputs": [],
      "id": "942c948b-9546-4999-a1f8-7974f0529520"
    },
    {
      "cell_type": "markdown",
      "source": "### 2. Set-up",
      "metadata": {},
      "id": "cce56a73-17d9-453e-80d4-3bdb61feb95c"
    },
    {
      "cell_type": "code",
      "source": "from time import time\nfrom PIL import Image\nimport numpy as np\nimport matplotlib.pyplot as plt\nfrom sklearn.cluster import KMeans\nfrom sklearn.utils import shuffle",
      "metadata": {
        "trusted": true
      },
      "execution_count": null,
      "outputs": [],
      "id": "da313f5c-69e6-4c89-b2c5-d77eaa130ee2"
    },
    {
      "cell_type": "markdown",
      "source": "### 3. Set-up",
      "metadata": {},
      "id": "a6b29673-455c-454a-9269-d32e9fe71db6"
    },
    {
      "cell_type": "code",
      "source": "%config Completer.use_jedi = False",
      "metadata": {
        "trusted": true
      },
      "execution_count": null,
      "outputs": [],
      "id": "6d5527d6-2467-4e96-a523-5f65b34bedcf"
    },
    {
      "cell_type": "markdown",
      "source": "### 4. Load a satellite image (should be a `jpg` file)",
      "metadata": {},
      "id": "50de55ee-ed30-4f32-a089-ee4e1d2cce0a"
    },
    {
      "cell_type": "code",
      "source": "raw_jpg = Image.open(\"Earth.jpg\").convert(\"RGB\")",
      "metadata": {
        "trusted": true
      },
      "execution_count": null,
      "outputs": [],
      "id": "162e6271-0ca2-4b3c-ac76-7889c5886d35"
    },
    {
      "cell_type": "markdown",
      "source": "### 5. Convert `raw_jpg` to an `array` data structure called `array_unint8`",
      "metadata": {},
      "id": "286b34fd-3345-49d3-bc88-6ce504593ffe"
    },
    {
      "cell_type": "code",
      "source": "array_uint8 = np.array(raw_jpg) ",
      "metadata": {
        "trusted": true
      },
      "execution_count": null,
      "outputs": [],
      "id": "6cdec1b9-5e53-48dd-8c1c-544d8a908572"
    },
    {
      "cell_type": "markdown",
      "source": "### 6. Assign the dimensions of the `array_uint8` object to variables, then check these",
      "metadata": {},
      "id": "1a2b1b22-4994-45f9-8102-c0107973c013"
    },
    {
      "cell_type": "code",
      "source": "width, height, depth = original_shape = array_uint8.shape\noriginal_shape",
      "metadata": {
        "trusted": true
      },
      "execution_count": null,
      "outputs": [],
      "id": "004b0043-3e64-45fa-9c74-db756233a651"
    },
    {
      "cell_type": "markdown",
      "source": "### 7. Create a function called `pixel_colour_swatch()` that generates a colour swatch of a pixel of the image located at a specific width & height",
      "metadata": {},
      "id": "9fe42ac1-c94e-43b2-873e-6582395924b8"
    },
    {
      "cell_type": "code",
      "source": "def pixel_colour_swatch(row, column):\n    RGB_colour = tuple(array_uint8[row][column].tolist())\n    print(f\"The pixel at ({row}, {column}) has RGB of {RGB_colour}.\")\n    return Image.new(\"RGB\", (50,50), RGB_colour)",
      "metadata": {
        "trusted": true
      },
      "execution_count": null,
      "outputs": [],
      "id": "00027d50-5a4d-40d3-889b-b4451ef2eea4"
    },
    {
      "cell_type": "markdown",
      "source": "### 8. Call the `pixel_colour_swatch()` function at a particular width & height of the image to see what the colour is & it's RGB value",
      "metadata": {},
      "id": "9ed194f1-c0b8-4741-892b-faa87c86b034"
    },
    {
      "cell_type": "code",
      "source": "pixel_colour_swatch(300, 300)",
      "metadata": {
        "trusted": true
      },
      "execution_count": null,
      "outputs": [],
      "id": "8f1920e8-2b1f-42e7-a567-70b3c7065c07"
    },
    {
      "cell_type": "markdown",
      "source": "### 9. Test the condition that the value of the `depth` variable is 3 (as would be the case if the image colour mode is RGB)\n* Reshape the `array_uint8` object into width * height no. of rows, and depth no. of columns (which is expected to always be 3)",
      "metadata": {},
      "id": "65b94615-af60-433b-8770-645b6185756c"
    },
    {
      "cell_type": "code",
      "source": "assert depth == 3\nreshaped_array_uint8 = np.reshape(array_uint8, (width * height, depth))",
      "metadata": {
        "trusted": true
      },
      "execution_count": null,
      "outputs": [],
      "id": "d7a2d245-389e-4c81-b83e-e4b5e933c614"
    },
    {
      "cell_type": "markdown",
      "source": "### 10. Check the dimensions of `array_unint8` & have a look at the first 5 rows of the array",
      "metadata": {},
      "id": "3eec4d51-e351-4317-8200-9069e2585d20"
    },
    {
      "cell_type": "code",
      "source": "reshaped_array_uint8.shape, reshaped_array_uint8[:5]",
      "metadata": {
        "tags": [],
        "trusted": true
      },
      "execution_count": null,
      "outputs": [],
      "id": "d12c30a8-4e95-466a-9801-132306a32ef6"
    },
    {
      "cell_type": "markdown",
      "source": "### 11. OPTIONAL: Calculate the number of colours in the original satellite image data",
      "metadata": {},
      "id": "1aec8341-8120-4676-ad83-fa2b4c7cdc2b"
    },
    {
      "cell_type": "code",
      "source": "original_n_colours = np.unique(reshaped_array_uint8, axis=0).shape[0]\noriginal_n_colours",
      "metadata": {
        "trusted": true
      },
      "execution_count": null,
      "outputs": [],
      "id": "24ae05cf-dc9b-4a87-9bee-f8505c65f017"
    },
    {
      "cell_type": "markdown",
      "source": "### 12. Convert `reshaped_array_uint8` to the default 8 bits integer coding to floats & divide by 255 so the floats are in the range [0-1] (i.e. normalise the values)",
      "metadata": {},
      "id": "9103f902-f671-46ea-bb86-762f0a099524"
    },
    {
      "cell_type": "code",
      "source": "reshaped_array_float01range = np.array(reshaped_array_uint8, dtype=np.float64) / 255",
      "metadata": {
        "trusted": true
      },
      "execution_count": null,
      "outputs": [],
      "id": "0668c485-8623-4af4-996e-327e153395a2"
    },
    {
      "cell_type": "markdown",
      "source": "### 13. Make a copy of the prepared image data called`image_array` to work on",
      "metadata": {},
      "id": "23693935-064d-40cf-abd9-729575d6c2ef"
    },
    {
      "cell_type": "code",
      "source": "image_array = reshaped_array_float01range.copy()",
      "metadata": {
        "trusted": true
      },
      "execution_count": null,
      "outputs": [],
      "id": "7159ef2e-70e7-4f9f-ac08-0995f77d36e4"
    },
    {
      "cell_type": "markdown",
      "source": "### 14. Choose the number of clusters, i.e. colours, that the image data will be grouped/reduced into",
      "metadata": {},
      "id": "2aa3ce86-7de7-48ac-998e-973b19cb696b"
    },
    {
      "cell_type": "code",
      "source": "n_colours = 6",
      "metadata": {
        "trusted": true
      },
      "execution_count": null,
      "outputs": [],
      "id": "4720990a-4e01-47c6-a8fb-89b9dc02a545"
    },
    {
      "cell_type": "markdown",
      "source": "### 15. Machine Learning: Train a K-Means clustering model on small sub-sample of the image data ",
      "metadata": {},
      "id": "77d11725-e32b-43dd-94ac-b8faf0ed14d1"
    },
    {
      "cell_type": "code",
      "source": "print(\"Fitting model on a small sub-sample of the data\")\nt0 = time()\nimage_array_sample = shuffle(image_array, random_state=0, n_samples=1_000)\nkmeans = KMeans(n_clusters=n_colours, n_init=\"auto\", random_state=0).fit(\n    image_array_sample\n)\nprint(f\"done in {time() - t0:0.3f}s.\")",
      "metadata": {
        "trusted": true
      },
      "execution_count": null,
      "outputs": [],
      "id": "357b0e96-02d5-49a3-8ffc-74ddadb871bf"
    },
    {
      "cell_type": "markdown",
      "source": "### 16. Machine Learning: Get labels for all points by using the K-Means-trained model to predict which of the n clusters each pixel belongs to, i.e. assign each pixel a label, from 1 to `n_colors` number of colours",
      "metadata": {},
      "id": "224457ba-ee0a-4cc8-ad0c-5b9ee18980ea"
    },
    {
      "cell_type": "code",
      "source": "print(\"Predicting colour indices on the full image (k-means)\")\nt0 = time()\nlabels = kmeans.predict(image_array)\nprint(f\"done in {time() - t0:0.3f}s.\")",
      "metadata": {
        "trusted": true
      },
      "execution_count": null,
      "outputs": [],
      "id": "c18262aa-2d72-4cb9-80a5-5e5d8c4668cc"
    },
    {
      "cell_type": "markdown",
      "source": "### 17. Import a module, `mcolours`, that enables useful color functionality ",
      "metadata": {},
      "id": "b621b119-16b4-45aa-8550-0da25085471e"
    },
    {
      "cell_type": "code",
      "source": "import matplotlib.colors as mcolours",
      "metadata": {
        "trusted": true
      },
      "execution_count": null,
      "outputs": [],
      "id": "719cd7cb-ee3a-498e-92fc-df83eaad0639"
    },
    {
      "cell_type": "markdown",
      "source": "### 18. Check out available `named colours` and what their RGB value is: https://matplotlib.org/stable/gallery/color/named_colors.html#css-colors",
      "metadata": {},
      "id": "e6f439f9-49ad-4811-9905-4e401a9eeb37"
    },
    {
      "cell_type": "code",
      "source": "mcolours.to_rgb(\"tomato\")",
      "metadata": {
        "trusted": true
      },
      "execution_count": null,
      "outputs": [],
      "id": "93853563-32a8-4338-94fa-f9d662d6ceed"
    },
    {
      "cell_type": "markdown",
      "source": "### 19. Create a function, `make_codebook()`, for creating custom colour palettes, referred to here as a `codebook`\n* FYI you could alternatively use a list comprehension for the main body of the function, e.g. `codebook = np.array([mcolors.to_rgb(i) for i in args])`",
      "metadata": {},
      "id": "1739ce83-d368-4fae-a0b4-49e797f6d9de"
    },
    {
      "cell_type": "code",
      "source": "def make_codebook(*args):\n    codebook = []\n    for i in args:\n        codebook.append(mcolours.to_rgb(i))\n    codebook = np.array(codebook)\n    return codebook",
      "metadata": {
        "trusted": true
      },
      "execution_count": null,
      "outputs": [],
      "id": "8bae6cb7-c876-4534-95c1-e28f492a4cba"
    },
    {
      "cell_type": "markdown",
      "source": "### 20. Use the `make_codebook()` function to create a custom colour palette with which to recreate an updated satellite image as digital artwork\n* NOTE: Ensure to pass the same number of `named colors` arguments as the number of `n_colors` specified earlier (i.e. `6` in the prepared example)",
      "metadata": {},
      "id": "aa29c64b-f661-4568-b10f-c3b936ee846a"
    },
    {
      "cell_type": "code",
      "source": "codebook_6colours = make_codebook(\"navy\", \"cornflowerblue\", \"lightyellow\", \"springgreen\", \"yellow\",  \"royalblue\")",
      "metadata": {
        "trusted": true
      },
      "execution_count": null,
      "outputs": [],
      "id": "d2817e02-222b-42a1-a83b-66c002c59ef6"
    },
    {
      "cell_type": "markdown",
      "source": "### 21. Create a function, `recreate_image()`, to recreate the (compressed) image from provided codebook, pixel labels, image width, and image height",
      "metadata": {},
      "id": "f5afa305-bc0d-4145-85cc-fea9c74bb6fd"
    },
    {
      "cell_type": "code",
      "source": "def recreate_image(codebook, labels, width, height):\n    return codebook[labels].reshape(width, height, -1)",
      "metadata": {
        "trusted": true
      },
      "execution_count": null,
      "outputs": [],
      "id": "c4e35b57-04c9-42ab-8485-f4b2825dc4bb"
    },
    {
      "cell_type": "markdown",
      "source": "### 22. OPTIONAL: Try this code (by uncommenting it) to see what the `codebook[labels]` code in the 'recreate_inage' function is doing",
      "metadata": {},
      "id": "c2edac1d-2955-407e-9a0a-a7b5cba239fc"
    },
    {
      "cell_type": "code",
      "source": "#test_codebook = make_codebook(\"orange\", \"navy\")\n#test_labels = np.array([0,1,1,0,1,0,0])\n#test_codebook[test_labels]",
      "metadata": {
        "trusted": true
      },
      "execution_count": null,
      "outputs": [],
      "id": "370d519a-d6c3-41ad-a989-fd77ffa5a5d5"
    },
    {
      "cell_type": "markdown",
      "source": "### 23. Create and plot the `SatArt` variable, a recreated reduced colour image of `n_colours` number of chosen colours as defined in the custom `codebook` colour palette",
      "metadata": {},
      "id": "56014646-f751-42e2-b6da-08acbf91864e"
    },
    {
      "cell_type": "code",
      "source": "SatArt = recreate_image(codebook_6colours, labels, width, height)\nplt.figure(figsize=(10,10))\nplt.clf()\nplt.axis(\"off\")\nplt.title(f\"Satellite Art - a quantized image with {n_colours} colours\")\nplt.imshow(SatArt);\n#plt.savefig(\"SatArt_test.png\", dpi=600)",
      "metadata": {
        "trusted": true
      },
      "execution_count": null,
      "outputs": [],
      "id": "2772d626-b866-46ee-afd0-182d6610f28b"
    },
    {
      "cell_type": "markdown",
      "source": "---\n# ALTERNATIVE: up to 148 randomly-chosen colours",
      "metadata": {},
      "id": "3b7f0e18-5962-44fe-a14b-756f50233959"
    },
    {
      "cell_type": "markdown",
      "source": "### 24. Choose the number of clusters, i.e. colours, that the image data will be grouped/reduced into by passing an integer of your choice to `n_random_colours`",
      "metadata": {},
      "id": "d21dce33-3d62-42f7-a59e-9edee976a37d"
    },
    {
      "cell_type": "code",
      "source": "n_random_colours = 148\n\n# Train K-Means clustering model on small sub-sample of the image data\nprint(\"Fitting model on a small sub-sample of the data\")\nt0_alt = time()\nimage_array_sample_alt = shuffle(image_array, random_state=0, n_samples=1_000)\nkmeans_alt = KMeans(n_clusters=n_random_colours, n_init=\"auto\", random_state=0).fit(\n    image_array_sample_alt\n)\nprint(f\"done in {time() - t0_alt:0.3f}s.\")\n\n# Get labels for all points - use the kmeans trained model to predict which of the n clusters each pixel belongs to, i.e. assign each pixel a label, from 1 to n_colors\nprint(\"Predicting colour indices on the full image (k-means)\")\nt0_alt = time()\nlabels_alt = kmeans_alt.predict(image_array)\nprint(f\"done in {time() - t0_alt:0.3f}s.\")",
      "metadata": {
        "trusted": true
      },
      "execution_count": null,
      "outputs": [],
      "id": "424c4ff5-1d3d-46c7-941a-32670c6648aa"
    },
    {
      "cell_type": "markdown",
      "source": "### 25. Create a function, `recreate_image_alt`, to recreate the (compressed) image from provided `codebook`, pixel labels, image width, and image height",
      "metadata": {},
      "id": "c9c7530b-2734-4766-8a3c-4cadde30ba8f"
    },
    {
      "cell_type": "code",
      "source": "def recreate_image_alt(codebook, labels, width, height):\n    return codebook[labels_alt].reshape(width, height, -1)",
      "metadata": {
        "trusted": true
      },
      "execution_count": null,
      "outputs": [],
      "id": "9b5b59d1-f497-41c6-973f-b5776df54f7d"
    },
    {
      "cell_type": "markdown",
      "source": "### 26. Create a function, `random_array_rgb()`, to choose a random selection of named colors, the number of which is passed as the input\n* NOTE: The `replace` parameter is used to specify whether or not to allow a chosen colour to be re-chosen or not\n* NOTE: Returns 2 arrays, the first containing the RGB values of the randomly selected colours, and the second containing their names",
      "metadata": {},
      "id": "ad2a5ae5-2e2c-44ed-a181-ef8f2dc5dd45"
    },
    {
      "cell_type": "code",
      "source": "def random_array_rgb(n_random_colours):\n    random_array = np.random.choice([i for i in mcolours.cnames.keys()], n_random_colours, replace=False)\n    random_array_rgb = np.array([mcolours.to_rgb(i) for i in random_array])\n    return (random_array_rgb, random_array)",
      "metadata": {
        "trusted": true
      },
      "execution_count": null,
      "outputs": [],
      "id": "2b27cd88-286a-4340-8c7e-d918ae9a4b6a"
    },
    {
      "cell_type": "markdown",
      "source": "### 27. Create and plot the `SatArt_random` variable, a recreated reduced colour image of `n_random_colours` number of chosen colours as defined in the custom `codebook` colour palette",
      "metadata": {},
      "id": "9e337c78-0730-49cb-855a-ae7a472fd493"
    },
    {
      "cell_type": "code",
      "source": "np.random.seed(999)\nSatArt_random = recreate_image_alt(random_array_rgb(n_random_colours)[0], labels_alt, width, height)\nplt.figure(figsize=(10,10))\nplt.clf()\nplt.axis(\"off\")\nplt.title(f\"Satellite Art with {n_random_colours} colours: {random_array_rgb(n_random_colours)[1]}\", fontdict={\"fontsize\":8})\nplt.imshow(SatArt_random);\n#plt.savefig(\"SatArt_test.png\", dpi=300)",
      "metadata": {
        "trusted": true
      },
      "execution_count": null,
      "outputs": [],
      "id": "aad92f8e-d692-49a3-bd23-b6e8903d055d"
    },
    {
      "cell_type": "markdown",
      "source": "### 28. Convert `SatArt_random` into an RGB image object, scaling the 0-1 values and casting/conversion back to uint8/8 bit integer format",
      "metadata": {},
      "id": "f2cd6f42-8dae-464d-b9e8-2441e4c6436e"
    },
    {
      "cell_type": "code",
      "source": "SatArt_random_uint8 = Image.fromarray((SatArt_random * 255).astype(np.uint8))",
      "metadata": {
        "trusted": true
      },
      "execution_count": null,
      "outputs": [],
      "id": "225247bc-c34c-4843-a15d-0a15020fe10f"
    },
    {
      "cell_type": "markdown",
      "source": "### 29. OPTIONAL: You can save the above image by uncommenting the below code, which will create a `png` file called `SatArt_random`. Alter this filename as required.",
      "metadata": {},
      "id": "3fa1465b-9849-461f-94df-8f98d12af758"
    },
    {
      "cell_type": "code",
      "source": "#SatArt_random_uint8.save(\"SatArt_random.png\")",
      "metadata": {
        "trusted": true
      },
      "execution_count": null,
      "outputs": [],
      "id": "2ba0509e-8c51-499c-a7a5-599a2bd4480d"
    },
    {
      "cell_type": "markdown",
      "source": "---\n# Now explore applying ready-made image filters to your Machine-Learning-enabled creation",
      "metadata": {},
      "id": "c2fffec3-919e-4e06-ba43-a6331d8ecb79"
    },
    {
      "cell_type": "markdown",
      "source": "### 30. Set-up",
      "metadata": {},
      "id": "074bb162-c4f2-48fb-9fc4-ad0a314d5302"
    },
    {
      "cell_type": "code",
      "source": "from PIL.ImageFilter import (FIND_EDGES, CONTOUR, EMBOSS, MedianFilter, MinFilter, MaxFilter)\nfrom PIL.ImageOps import solarize",
      "metadata": {
        "trusted": true
      },
      "execution_count": null,
      "outputs": [],
      "id": "2f67d939-b055-41ef-bb87-5d1297bd8d06"
    },
    {
      "cell_type": "markdown",
      "source": "### 31. Create copy of the non-random ML SatArt object (or can copy `SatArt_random`) converted into RGB image object, scaling the 0-1 values and casting/conversion back to uint8/8 bit integer format",
      "metadata": {},
      "id": "a4ef2cb3-67c7-4d0e-8065-c3cd05e89128"
    },
    {
      "cell_type": "code",
      "source": "SatArt_ML = Image.fromarray((SatArt * 255).astype(np.uint8)).copy()",
      "metadata": {
        "trusted": true
      },
      "execution_count": null,
      "outputs": [],
      "id": "2d2e7961-b508-4e3e-a938-94b3b78dad5a"
    },
    {
      "cell_type": "markdown",
      "source": "### 32. Check out how your 'SatArt' artwork looks like with an additional ready-made filter from the Python Imaging Library (PIL)",
      "metadata": {
        "tags": []
      },
      "id": "51db59eb-eaea-40c2-a70d-ba33977893d4"
    },
    {
      "cell_type": "code",
      "source": "PIL_filters = [\"FIND_EDGES\", \"FIND_EDGES (greyscale)\", \"CONTOUR\", \"CONTOUR (greyscale)\", \"EMBOSS\", \"MedianFilter\", \"MinFilter\", \"MaxFilter\",  \"solarize\"]\nfig, ax = plt.subplots(9,1, figsize=(40,80))\n\nax[0].imshow(SatArt_ML.filter(FIND_EDGES()))    \nax[1].imshow(SatArt_ML.convert(\"L\").filter(FIND_EDGES()))    # Also try the FIND_EDGES filter on a greyscale version of your artwork\nax[2].imshow(SatArt_ML.filter(CONTOUR()))     \nax[3].imshow( SatArt_ML.convert(\"L\").filter(CONTOUR()))    # Also try the CONTOUR filter on a greyscale version of your artwork\n\nax[4].imshow(SatArt_ML.filter(EMBOSS()))\nax[5].imshow(SatArt_ML.filter(MedianFilter(size=5)))\nax[6].imshow(SatArt_ML.filter(MinFilter(size=5)))\nax[7].imshow(SatArt_ML.filter(MaxFilter(size=5)))\nax[8].imshow(solarize(SatArt_ML, threshold=0))    # Try different values for the threshold argument between 0 and 128\n\nfor count, value in enumerate(PIL_filters):\n    ax[count].axis(\"off\")\n    ax[count].set_title(f\"{count+1}. ML-quantized image with {value} PIL filter\")\nplt.show()",
      "metadata": {
        "tags": [],
        "trusted": true
      },
      "execution_count": null,
      "outputs": [],
      "id": "f5473ec3-794d-4fdc-87cd-484fdb461d7d"
    },
    {
      "cell_type": "markdown",
      "source": "### 33. NOTE: image objects can be saved by chaining the `.save()` function, inputting a string name - example:\n`SatArt_ML.filter(MedianFilter(size=5)).save(\"SatArt_PILfilters.png\")`",
      "metadata": {},
      "id": "f205455a-aacc-4894-81b6-102b304e49eb"
    },
    {
      "cell_type": "markdown",
      "source": "### 34. Can also generate a 'Before vs After' side-by-side comparison of the original chosen satellite image next to your final digital creation",
      "metadata": {},
      "id": "8ef05b4c-3adb-4292-93b4-b5849801a847"
    },
    {
      "cell_type": "code",
      "source": "fig, ax = plt.subplots(1,2, figsize=(20,20))\nax[0].imshow(raw_jpg)\nax[1].imshow((solarize(SatArt_ML, threshold=0)))\nax[0].axis(\"off\")\nax[1].axis(\"off\")\n\nax[0].set_title(f\"Original Satellite image with {original_n_colours} colours\")\nax[1].set_title(f\"Finished Satellite Art with {n_colours} colours\")\n#plt.savefig(\"SatArtComparison.png\", dpi=600)\nplt.show()",
      "metadata": {
        "trusted": true
      },
      "execution_count": null,
      "outputs": [],
      "id": "615b0862-9833-4ec1-a7bb-8423b4c0c819"
    },
    {
      "cell_type": "markdown",
      "source": "---\n## IF YOU WANT TO SAVE YOUR WORK REMEMBER TO DOWNLOAD A COPY OF THIS NOTEBOOK AND ANY PNG FILES YOU'VE CREATED!! \n### Right-click on the file and select 'Download'.",
      "metadata": {},
      "id": "0f4b21cb-5558-45af-8989-5dd2296430b9"
    },
    {
      "cell_type": "markdown",
      "source": "---\nCopyright © 2023 Rho Zeta AI Ltd. All rights reserved.",
      "metadata": {},
      "id": "04b7198c-a4ee-40fa-95fd-38ff979eb17f"
    }
  ]
}
